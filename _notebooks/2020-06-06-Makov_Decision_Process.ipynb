{
 "cells": [
  {
   "cell_type": "markdown",
   "metadata": {},
   "source": [
    "# Markov Decision Process\n",
    "> A notebook that helps us to discover Reinforcement Learning\n",
    "- toc: true\n",
    "- branch: master\n",
    "- badges: true\n",
    "- comments: true\n",
    "- metadata_key1: metadata_value1\n",
    "- metadata_key2: metadata_value2\n",
    "- image: https://miro.medium.com/max/1400/1*ywOrdJAHgSL5RP-AuxsfJQ.png\n",
    "- description: First in a series on understanding Reinforcement Learning."
   ]
  },
  {
   "cell_type": "markdown",
   "metadata": {},
   "source": [
    "# Preliminaries\n",
    "\n",
    "- The true action value for action ``a`` is the expected reward\n",
    "$$\n",
    "q(a) = \\mathbb{E}\\left\\{R_t | A_t=a \\right\\}\n",
    "$$\n"
   ]
  },
  {
   "cell_type": "markdown",
   "metadata": {},
   "source": []
  },
  {
   "cell_type": "markdown",
   "metadata": {},
   "source": [
    "- A simple estimate of the action value is the average of the sampled rewards:\n",
    "$$\n",
    "Q_t(a)=\\frac{\\sum_{n}^{}R_n\\mathbb{I}(A_n=a)}{\\sum_{n}^{}\\mathbb{I}(A_n=a)}\n",
    "$$"
   ]
  },
  {
   "cell_type": "markdown",
   "metadata": {},
   "source": [
    "where $R_n$ is the reward at time n."
   ]
  },
  {
   "cell_type": "markdown",
   "metadata": {},
   "source": [
    "- The update of the action values at tume step n+1\n",
    "$$\n",
    "Q_{n+1} = Q_n + \\frac{1}{n} (R_n - Q_n)\n",
    "$$\n",
    "\n",
    "where $\\alpha=\\frac{1}{n}$ is a step size."
   ]
  },
  {
   "cell_type": "markdown",
   "metadata": {},
   "source": [
    "- The optimal value is\n",
    "$$\n",
    "v_* = \\max_{a \\in A}  q(a)\n",
    "$$\n",
    "\n",
    "- Regret is the opportunity loss for one step\n",
    "\n",
    "$$\n",
    "v_* - q(A_t)\n",
    "$$"
   ]
  },
  {
   "cell_type": "markdown",
   "metadata": {},
   "source": [
    "- The trade off between exploration and exploitation will be done by minimizing the total regret\n",
    "\n",
    "$$\n",
    "L_t = \\sum_{i=1}^t (v_* - q(a_i))\n",
    "$$"
   ]
  },
  {
   "cell_type": "markdown",
   "metadata": {},
   "source": []
  }
 ],
 "metadata": {
  "language_info": {
   "name": "python"
  },
  "orig_nbformat": 4
 },
 "nbformat": 4,
 "nbformat_minor": 2
}
