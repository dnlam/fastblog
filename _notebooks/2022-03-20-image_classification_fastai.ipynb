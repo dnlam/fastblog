{
 "cells": [
  {
   "cell_type": "markdown",
   "metadata": {},
   "source": [
    "# Image Classification with FastAI\n",
    "> A notebook that helps us to discover one of pioneered framework in Deep Learning - FastAI\n",
    "- toc: true\n",
    "- branch: master\n",
    "- badges: true\n",
    "- comments: true\n",
    "- metadata_key1: metadata_value1\n",
    "- metadata_key2: metadata_value2\n",
    "- image: https://miro.medium.com/max/1019/1*s3Gb82hDipmoTr-XhvK1Tg.jpeg\n",
    "- description: Second in a series on understanding FastAI."
   ]
  },
  {
   "cell_type": "markdown",
   "metadata": {},
   "source": [
    "# Objectives\n",
    "So far, from [Part 1] (https://dnlam.github.io/fastblog/2022/03/19/_intro_fastai.html), we understood how to create and deploy a model. I practice, to make your model really works, there are a lots of details that we have to check including:\n",
    "- different types of layers\n",
    "- regularization methods\n",
    "- optimizers\n",
    "- how to put layers into architectures. \n",
    "- labelling techniques and much more\n",
    "\n",
    "In this post, we will lighten them on!"
   ]
  },
  {
   "cell_type": "markdown",
   "metadata": {},
   "source": []
  }
 ],
 "metadata": {
  "language_info": {
   "name": "python"
  },
  "orig_nbformat": 4
 },
 "nbformat": 4,
 "nbformat_minor": 2
}
