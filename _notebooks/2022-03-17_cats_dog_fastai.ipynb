{
 "cells": [
  {
   "cell_type": "markdown",
   "id": "b0b0e0f3-10a1-47d2-bb3a-838dbf4d040c",
   "metadata": {
    "tags": []
   },
   "source": [
    "# Cat/Dog classification with FastAI\n",
    "> A notebook that helps us to discover one of pioneered framework in Deep Learning - FastAI\n",
    "- toc: true\n",
    "- branch: master\n",
    "- badges: true\n",
    "- comments: true\n",
    "- metadata_key1: metadata_value1\n",
    "- metadata_key2: metadata_value2\n",
    "- image: https://miro.medium.com/max/1019/1*s3Gb82hDipmoTr-XhvK1Tg.jpeg\n",
    "- description: First in a series on understanding FastAI.\n"
   ]
  },
  {
   "cell_type": "code",
   "execution_count": null,
   "id": "966d775a-d6d5-498a-884e-ddf77e4e1053",
   "metadata": {},
   "outputs": [],
   "source": [
    "from fastai.vision.all import *\n",
    "path = untar_data(URLs.PETS)/'images'"
   ]
  },
  {
   "cell_type": "code",
   "execution_count": 2,
   "id": "46e13073-3163-4a00-9cfb-76e39661a4df",
   "metadata": {},
   "outputs": [
    {
     "data": {
      "text/html": [
       "<table border=\"1\" class=\"dataframe\">\n",
       "  <thead>\n",
       "    <tr style=\"text-align: left;\">\n",
       "      <th>epoch</th>\n",
       "      <th>train_loss</th>\n",
       "      <th>valid_loss</th>\n",
       "      <th>error_rate</th>\n",
       "      <th>time</th>\n",
       "    </tr>\n",
       "  </thead>\n",
       "  <tbody>\n",
       "    <tr>\n",
       "      <td>0</td>\n",
       "      <td>0.164980</td>\n",
       "      <td>0.021727</td>\n",
       "      <td>0.006766</td>\n",
       "      <td>01:09</td>\n",
       "    </tr>\n",
       "  </tbody>\n",
       "</table>"
      ],
      "text/plain": [
       "<IPython.core.display.HTML object>"
      ]
     },
     "metadata": {},
     "output_type": "display_data"
    },
    {
     "data": {
      "text/html": [
       "<table border=\"1\" class=\"dataframe\">\n",
       "  <thead>\n",
       "    <tr style=\"text-align: left;\">\n",
       "      <th>epoch</th>\n",
       "      <th>train_loss</th>\n",
       "      <th>valid_loss</th>\n",
       "      <th>error_rate</th>\n",
       "      <th>time</th>\n",
       "    </tr>\n",
       "  </thead>\n",
       "  <tbody>\n",
       "    <tr>\n",
       "      <td>0</td>\n",
       "      <td>0.054836</td>\n",
       "      <td>0.019214</td>\n",
       "      <td>0.006766</td>\n",
       "      <td>01:11</td>\n",
       "    </tr>\n",
       "  </tbody>\n",
       "</table>"
      ],
      "text/plain": [
       "<IPython.core.display.HTML object>"
      ]
     },
     "metadata": {},
     "output_type": "display_data"
    }
   ],
   "source": [
    "def is_cat(x):\n",
    "  return x[0].isupper()\n",
    "\n",
    "dls = ImageDataLoaders.from_name_func(path,\n",
    "                                      get_image_files(path),\n",
    "                                      valid_pct= 0.2,\n",
    "                                      seed= 42,\n",
    "                                      label_func= is_cat,\n",
    "                                      item_tfms= Resize(224))\n",
    "\n",
    "learn = cnn_learner(dls, resnet34, metrics= error_rate)\n",
    "learn.fine_tune(1)"
   ]
  },
  {
   "cell_type": "code",
   "execution_count": null,
   "id": "5738caeb-e782-41fe-899b-a5a2f9b1fead",
   "metadata": {},
   "outputs": [],
   "source": []
  },
  {
   "cell_type": "code",
   "execution_count": null,
   "id": "beb9bef5-4e7d-46c6-b1a1-74910c8723c4",
   "metadata": {},
   "outputs": [],
   "source": [
    "\n"
   ]
  }
 ],
 "metadata": {
  "kernelspec": {
   "display_name": "Python 3 (ipykernel)",
   "language": "python",
   "name": "python3"
  },
  "language_info": {
   "codemirror_mode": {
    "name": "ipython",
    "version": 3
   },
   "file_extension": ".py",
   "mimetype": "text/x-python",
   "name": "python",
   "nbconvert_exporter": "python",
   "pygments_lexer": "ipython3",
   "version": "3.8.3"
  }
 },
 "nbformat": 4,
 "nbformat_minor": 5
}
