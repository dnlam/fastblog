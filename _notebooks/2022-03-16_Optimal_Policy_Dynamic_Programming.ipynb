{
 "cells": [
  {
   "cell_type": "markdown",
   "metadata": {},
   "source": [
    "# Optimal Policies with Dynamic Programming\n",
    "> A notebook that helps us to understand dynamic programming\n",
    "- toc: true\n",
    "- branch: master\n",
    "- badges: true\n",
    "- comments: true\n",
    "- metadata_key1: metadata_value1\n",
    "- metadata_key2: metadata_value2\n",
    "- image: images/pol_iter.PNG\n",
    "- description: Second release in a series on understanding Reinforcement Learning."
   ]
  },
  {
   "cell_type": "markdown",
   "metadata": {},
   "source": [
    "# Section: Dynamic Programming\n",
    "The term dynamic programming (DP) refers to a collection of algorithms that can be\n",
    "used to compute optimal policies given a perfect model of the environment as a Markov\n",
    "decision process (MDP). The key idea of DP, and of reinforcement learning generally, is the use of value functions to organize and structure the search for good policies.\n"
   ]
  },
  {
   "cell_type": "markdown",
   "metadata": {},
   "source": [
    "In order to shed light on the Chapter 4 of the bible [Reinforcement Learning](http://www.incompleteideas.net/book/RLbook2018.pdf), the objectives of this notebook are:\n",
    "- Policy Evaluation and Policy Improvement\n",
    "- Value and Policy Iteration\n",
    "- Bellman Equations "
   ]
  },
  {
   "cell_type": "markdown",
   "metadata": {},
   "source": [
    "# Context\n",
    "We will give an example of how to apply DP into Gridworld City to deal with the City's Parking problem. The city council has created a Markov decision process (MDP) to model the demand for parking with a reward function that reflects its preferences. \n",
    "- States are nonnegative integers indicating how many parking spaces are occupied.\n",
    "- Actions are nonnegative integers designating the price of street parking.\n",
    "- The reward is a real value describing the city's preference for the situation.\n",
    "- Time is discretized by hour."
   ]
  },
  {
   "cell_type": "markdown",
   "metadata": {},
   "source": [
    "# Preliminaries\n",
    "The BaseAgent, Environment and RLGlue should follow the our first Notebook on Reinforcement Learning [Exploration/Exploitation](https://dnlam.github.io/fastblog/2022/03/16/Bandits_Exploration_Exploitation.html). "
   ]
  },
  {
   "cell_type": "markdown",
   "metadata": {},
   "source": [
    "The construction of a virtual ParkingWorld and the plot function are given below:"
   ]
  },
  {
   "cell_type": "code",
   "execution_count": 15,
   "metadata": {},
   "outputs": [
    {
     "data": {
      "text/plain": [
       "<Figure size 432x288 with 0 Axes>"
      ]
     },
     "metadata": {},
     "output_type": "display_data"
    }
   ],
   "source": [
    "#hide_input\n",
    "import numpy as np\n",
    "import matplotlib.pyplot as plt\n",
    "from matplotlib.ticker import MaxNLocator, AutoMinorLocator\n",
    "from mpl_toolkits.axes_grid1 import make_axes_locatable\n",
    "from IPython import display\n",
    "import time\n",
    "import json\n",
    "from copy import deepcopy\n",
    "\n",
    "plt.rc('font', size=30)  # controls default text sizes\n",
    "plt.rc('axes', titlesize=25)  # fontsize of the axes title\n",
    "plt.rc('axes', labelsize=25)  # fontsize of the x and y labels\n",
    "plt.rc('xtick', labelsize=17)  # fontsize of the tick labels\n",
    "plt.rc('ytick', labelsize=17)  # fontsize of the tick labels\n",
    "plt.rc('legend', fontsize=20)  # legend fontsize\n",
    "plt.rc('figure', titlesize=30)\n",
    "plt.tight_layout()\n",
    "\n",
    "class ParkingWorld:\n",
    "    def __init__(self,\n",
    "                 num_spaces=10,\n",
    "                 num_prices=4,\n",
    "                 price_factor=0.1,\n",
    "                 occupants_factor=1.0,\n",
    "                 null_factor=1 / 3):\n",
    "        self.__num_spaces = num_spaces\n",
    "        self.__num_prices = num_prices\n",
    "        self.__occupants_factor = occupants_factor\n",
    "        self.__price_factor = price_factor\n",
    "        self.__null_factor = null_factor\n",
    "        self.__S = [num_occupied for num_occupied in range(num_spaces + 1)]\n",
    "        self.__A = list(range(num_prices))\n",
    "\n",
    "\n",
    "    def transitions(self, s, a):\n",
    "        return np.array([[r, self.p(s_, r, s, a)] for s_, r in self.support(s, a)])\n",
    "\n",
    "    def support(self, s, a):\n",
    "        return [(s_, self.reward(s, s_)) for s_ in self.__S]\n",
    "\n",
    "    def p(self, s_, r, s, a):\n",
    "        if r != self.reward(s, s_):\n",
    "            return 0\n",
    "        else:\n",
    "            center = (1 - self.__price_factor\n",
    "                      ) * s + self.__price_factor * self.__num_spaces * (\n",
    "                          1 - a / self.__num_prices)\n",
    "            emphasis = np.exp(\n",
    "                -abs(np.arange(2 * self.__num_spaces) - center) / 5)\n",
    "            if s_ == self.__num_spaces:\n",
    "                return sum(emphasis[s_:]) / sum(emphasis)\n",
    "            return emphasis[s_] / sum(emphasis)\n",
    "\n",
    "    def reward(self, s, s_):\n",
    "        return self.state_reward(s) + self.state_reward(s_)\n",
    "\n",
    "    def state_reward(self, s):\n",
    "        if s == self.__num_spaces:\n",
    "            return self.__null_factor * s * self.__occupants_factor\n",
    "        else:\n",
    "            return s * self.__occupants_factor\n",
    "\n",
    "    def random_state(self):\n",
    "        return np.random.randint(self.__num_prices)\n",
    "\n",
    "    def step(self, s, a):\n",
    "        probabilities = [\n",
    "            self.p(s_, self.reward(s, s_), s, a) for s_ in self.__S\n",
    "        ]\n",
    "        return np.random.choice(self.__S, p=probabilities)\n",
    "\n",
    "    @property\n",
    "    def A(self):\n",
    "        return list(self.__A)\n",
    "\n",
    "    @property\n",
    "    def num_spaces(self):\n",
    "        return self.__num_spaces\n",
    "\n",
    "    @property\n",
    "    def num_prices(self):\n",
    "        return self.num_prices\n",
    "\n",
    "    @property\n",
    "    def S(self):\n",
    "        return list(self.__S)\n",
    "\n",
    "\n",
    "class Transitions(list):\n",
    "    def __init__(self, transitions):\n",
    "        self.__transitions = transitions\n",
    "        super().__init__(transitions)\n",
    "\n",
    "    def __repr__(self):\n",
    "        repr = '{:<14} {:<10} {:<10}'.format('Next State', 'Reward',\n",
    "                                             'Probability')\n",
    "        repr += '\\n'\n",
    "        for i, (s, r, p) in enumerate(self.__transitions):\n",
    "            repr += '{:<14} {:<10} {:<10}'.format(s, round(r, 2), round(p, 2))\n",
    "            if i != len(self.__transitions) - 1:\n",
    "                repr += '\\n'\n",
    "        return repr\n",
    "        \n",
    "def plot(V, pi):\n",
    "    # plot value\n",
    "    fig, (ax1, ax2) = plt.subplots(1, 2, figsize=(12.5, 5))\n",
    "    ax1.axis('on')\n",
    "    ax1.cla()\n",
    "    states = np.arange(V.shape[0])\n",
    "    ax1.bar(states, V, edgecolor='none')\n",
    "    ax1.set_xlabel('State')\n",
    "    ax1.set_ylabel('Value', rotation='horizontal', ha='right')\n",
    "    ax1.set_title('Value Function')\n",
    "    ax1.xaxis.set_major_locator(MaxNLocator(integer=True, nbins=6))\n",
    "    ax1.yaxis.grid()\n",
    "    ax1.set_ylim(bottom=V.min())\n",
    "    # plot policy\n",
    "    ax2.axis('on')\n",
    "    ax2.cla()\n",
    "    im = ax2.imshow(pi.T, cmap='Greys', vmin=0, vmax=1, aspect='auto')\n",
    "    ax2.invert_yaxis()\n",
    "    ax2.set_xlabel('State')\n",
    "    ax2.set_ylabel('Action', rotation='horizontal', ha='right')\n",
    "    ax2.set_title('Policy')\n",
    "    start, end = ax2.get_xlim()\n",
    "    ax2.xaxis.set_ticks(np.arange(start, end), minor=True)\n",
    "    ax2.xaxis.set_major_locator(MaxNLocator(integer=True, nbins=6))\n",
    "    ax2.yaxis.set_major_locator(MaxNLocator(integer=True, nbins=6))\n",
    "    start, end = ax2.get_ylim()\n",
    "    ax2.yaxis.set_ticks(np.arange(start, end), minor=True)\n",
    "    ax2.grid(which='minor')\n",
    "    divider = make_axes_locatable(ax2)\n",
    "    cax = divider.append_axes('right', size='5%', pad=0.20)\n",
    "    cbar = fig.colorbar(im, cax=cax, orientation='vertical')\n",
    "    cbar.set_label('Probability', rotation=0, ha='left')\n",
    "    fig.subplots_adjust(wspace=0.5)\n",
    "    display.clear_output(wait=True)\n",
    "    display.display(fig)\n",
    "    time.sleep(0.001)\n",
    "    plt.close()\n",
    "\n"
   ]
  },
  {
   "cell_type": "code",
   "execution_count": 16,
   "metadata": {},
   "outputs": [],
   "source": [
    "#hide_input\n",
    "def near(arr1, arr2, thresh):\n",
    "    arr1 = np.array(arr1)\n",
    "    arr2 = np.array(arr2)\n",
    "    return np.all(np.abs(arr1 - arr2) < thresh)"
   ]
  },
  {
   "cell_type": "markdown",
   "metadata": {},
   "source": [
    "# Section 1: Policy Evaluation"
   ]
  },
  {
   "cell_type": "markdown",
   "metadata": {},
   "source": [
    "First, the city council would like you to evaluate the quality of the existing pricing scheme. Policy evaluation works by iteratively applying the Bellman equation for $v_{\\pi}$ to a working value function, as an update rule, as shown below.\n",
    "\n",
    "$$\\large v(s) \\leftarrow \\sum_a \\pi(a | s) \\sum_{s', r} p(s', r | s, a)[r + \\gamma v(s')]$$\n",
    "This update can either occur \"in-place\" (i.e. the update rule is sequentially applied to each state) or with \"two-arrays\" (i.e. the update rule is simultaneously applied to each state). Both versions converge to $v_{\\pi}$ but the in-place version usually converges faster. **In this assignment, we will be implementing all update rules in-place**, as is done in the pseudocode of chapter 4 of the [textbook](https://dnlam.github.io/fastblog/2022/03/16/Bandits_Exploration_Exploitation.html). \n"
   ]
  },
  {
   "cell_type": "markdown",
   "metadata": {},
   "source": [
    "The policy evaluation can be expressed in the code below:"
   ]
  },
  {
   "cell_type": "code",
   "execution_count": 17,
   "metadata": {},
   "outputs": [],
   "source": [
    "def evaluate_policy(env, V, pi, gamma, theta):\n",
    "    delta = float('inf')\n",
    "    while delta > theta:\n",
    "        delta = 0\n",
    "        for s in env.S:\n",
    "            v = V[s]\n",
    "            bellman_update(env, V, pi, s, gamma)\n",
    "            delta = max(delta, abs(v - V[s]))\n",
    "    return V"
   ]
  },
  {
   "cell_type": "markdown",
   "metadata": {},
   "source": [
    "Then, the Bellman update will be:"
   ]
  },
  {
   "cell_type": "code",
   "execution_count": 18,
   "metadata": {},
   "outputs": [],
   "source": [
    "def bellman_update(env, V, pi, s, gamma):\n",
    "    \"\"\"Mutate ``V`` according to the Bellman update equation.\"\"\"\n",
    "    v = 0\n",
    "    for a in env.A:\n",
    "        transitions = env.transitions(s, a)\n",
    "        for s_, (r, p) in enumerate(transitions):\n",
    "            v += pi[s][a] * p * (r + gamma * V[s_])\n",
    "    V[s] = v"
   ]
  },
  {
   "cell_type": "code",
   "execution_count": 20,
   "metadata": {},
   "outputs": [
    {
     "data": {
      "image/png": "[encoded data removed]",
      "text/plain": [
       "<Figure size 900x360 with 3 Axes>"
      ]
     },
     "metadata": {},
     "output_type": "display_data"
    }
   ],
   "source": [
    "#hide_input\n",
    "# set up test environment\n",
    "num_spaces = 10\n",
    "num_prices = 4\n",
    "env = ParkingWorld(num_spaces, num_prices)\n",
    "\n",
    "# build test policy\n",
    "city_policy = np.zeros((num_spaces + 1, num_prices))\n",
    "city_policy[:, 1] = 1\n",
    "\n",
    "gamma = 0.9\n",
    "theta = 0.1\n",
    "\n",
    "V = np.zeros(num_spaces + 1)\n",
    "V = evaluate_policy(env, V, city_policy, gamma, theta)\n",
    "\n",
    "# test the value function\n",
    "answer = [80.04, 81.65, 83.37, 85.12, 86.87, 88.55, 90.14, 91.58, 92.81, 93.78, 87.77]\n",
    "\n",
    "print(V)\n",
    "print(city_policy)\n",
    "plot(V, city_policy)"
   ]
  },
  {
   "cell_type": "markdown",
   "metadata": {},
   "source": [
    "The observation shows that the value monotonically increases as more parking is used, until there is no parking left, in which case the value is lower. Because of the relatively simple reward function (more reward is accrued when many but not all parking spots are taken and less reward is accrued when few or all parking spots are taken) and the highly stochastic dynamics function (each state has positive probability of being reached each time step) the value functions of most policies will qualitatively resemble this graph. However, depending on the intelligence of the policy, the scale of the graph will differ. In other words, better policies will increase the expected return at every state rather than changing the relative desirability of the states. Intuitively, the value of a less desirable state can be increased by making it less likely to remain in a less desirable state. Similarly, the value of a more desirable state can be increased by making it more likely to remain in a more desirable state. That is to say, good policies are policies that spend more time in desirable states and less time in undesirable states. As we will see in this assignment, such a steady state distribution is achieved by setting the price to be low in low occupancy states (so that the occupancy will increase) and setting the price high when occupancy is high (so that full occupancy will be avoided)."
   ]
  },
  {
   "cell_type": "markdown",
   "metadata": {},
   "source": [
    "# Policy Iteration\n",
    "Now the city council would like to propose a more efficient policy using policy iteration. Policy iteration works by alternating between evaluating the existing policy and making the policy greedy with respect to the existing value function. "
   ]
  },
  {
   "cell_type": "code",
   "execution_count": 21,
   "metadata": {},
   "outputs": [],
   "source": [
    "def improve_policy(env, V, pi, gamma):\n",
    "    policy_stable = True\n",
    "    for s in env.S:\n",
    "        old = pi[s].copy()\n",
    "        q_greedify_policy(env, V, pi, s, gamma)\n",
    "        \n",
    "        if not np.array_equal(pi[s], old):\n",
    "            policy_stable = False\n",
    "            \n",
    "    return pi, policy_stable\n",
    "\n",
    "def policy_iteration(env, gamma, theta):\n",
    "    V = np.zeros(len(env.S))\n",
    "    pi = np.ones((len(env.S), len(env.A))) / len(env.A)\n",
    "    policy_stable = False\n",
    "    \n",
    "    while not policy_stable:\n",
    "        V = evaluate_policy(env, V, pi, gamma, theta)\n",
    "        pi, policy_stable = improve_policy(env, V, pi, gamma)\n",
    "        \n",
    "    return V, pi"
   ]
  },
  {
   "cell_type": "code",
   "execution_count": 22,
   "metadata": {},
   "outputs": [],
   "source": [
    "def q_greedify_policy(env, V, pi, s, gamma):\n",
    "    \"\"\"Mutate ``pi`` to be greedy with respect to the q-values induced by ``V``.\"\"\"\n",
    "    G = np.zeros_like(env.A, dtype=float)\n",
    "    for a in env.A:\n",
    "        transitions = env.transitions(s, a)\n",
    "        for s_, (r, p) in enumerate(transitions):\n",
    "            G[a] += p * (r + gamma * V[s_])\n",
    "            \n",
    "    greed_actions = np.argwhere(G == np.amax(G))\n",
    "    for a in env.A:\n",
    "        if a in greed_actions:\n",
    "            pi[s, a] = 1 / len(greed_actions)\n",
    "        else:\n",
    "            pi[s, a] = 0"
   ]
  },
  {
   "cell_type": "code",
   "execution_count": 23,
   "metadata": {},
   "outputs": [],
   "source": [
    "#hide_input\n",
    "gamma = 0.9\n",
    "theta = 0.1\n",
    "env = ParkingWorld(num_spaces=10, num_prices=4)\n",
    "\n",
    "V, pi = policy_iteration(env, gamma, theta)\n",
    "\n",
    "V_answer = [81.60, 83.28, 85.03, 86.79, 88.51, 90.16, 91.70, 93.08, 94.25, 95.25, 89.45]\n",
    "pi_answer = [\n",
    "    [1, 0, 0, 0],\n",
    "    [1, 0, 0, 0],\n",
    "    [1, 0, 0, 0],\n",
    "    [1, 0, 0, 0],\n",
    "    [1, 0, 0, 0],\n",
    "    [1, 0, 0, 0],\n",
    "    [1, 0, 0, 0],\n",
    "    [1, 0, 0, 0],\n",
    "    [1, 0, 0, 0],\n",
    "    [0, 0, 0, 1],\n",
    "    [0, 0, 0, 1],\n",
    "]"
   ]
  },
  {
   "cell_type": "code",
   "execution_count": 24,
   "metadata": {},
   "outputs": [],
   "source": [
    "#hide_input\n",
    "env = ParkingWorld(num_spaces=10, num_prices=4)\n",
    "gamma = 0.9\n",
    "theta = 0.1\n",
    "V, pi = policy_iteration(env, gamma, theta)\n",
    "plot(V, pi)"
   ]
  },
  {
   "cell_type": "markdown",
   "metadata": {},
   "source": [
    "# Section 3: Value Iteration\n",
    "Value iteration works by iteratively applying the Bellman optimality equation for $v_{\\ast}$ to a working value function, as an update rule, as shown below.\n",
    "\n",
    "$$\\large v(s) \\leftarrow \\max_a \\sum_{s', r} p(s', r | s, a)[r + \\gamma v(s')]$$"
   ]
  },
  {
   "cell_type": "code",
   "execution_count": 26,
   "metadata": {},
   "outputs": [],
   "source": [
    "def value_iteration(env, gamma, theta):\n",
    "    V = np.zeros(len(env.S))\n",
    "    while True:\n",
    "        delta = 0\n",
    "        for s in env.S:\n",
    "            v = V[s]\n",
    "            bellman_optimality_update(env, V, s, gamma)\n",
    "            delta = max(delta, abs(v - V[s]))\n",
    "        if delta < theta:\n",
    "            break\n",
    "    pi = np.ones((len(env.S), len(env.A))) / len(env.A)\n",
    "    for s in env.S:\n",
    "        q_greedify_policy(env, V, pi, s, gamma)\n",
    "    return V, pi"
   ]
  },
  {
   "cell_type": "code",
   "execution_count": 27,
   "metadata": {},
   "outputs": [],
   "source": [
    "def bellman_optimality_update(env, V, s, gamma):\n",
    "    \"\"\"Mutate ``V`` according to the Bellman optimality update equation.\"\"\"\n",
    "    vmax = - float('inf')\n",
    "    for a in env.A:\n",
    "        transitions = env.transitions(s, a)\n",
    "        va = 0\n",
    "        for s_, (r, p) in enumerate(transitions):\n",
    "            va += p * (r + gamma * V[s_])\n",
    "        vmax = max(va, vmax)\n",
    "    V[s] = vmax"
   ]
  },
  {
   "cell_type": "code",
   "execution_count": 28,
   "metadata": {},
   "outputs": [
    {
     "data": {
      "image/png": "[encoded data removed]",
      "text/plain": [
       "<Figure size 900x360 with 3 Axes>"
      ]
     },
     "metadata": {},
     "output_type": "display_data"
    }
   ],
   "source": [
    "#hide_input\n",
    "gamma = 0.9\n",
    "env = ParkingWorld(num_spaces=10, num_prices=4)\n",
    "\n",
    "V = np.array([1, 2, 3, 4, 5, 6, 7, 8, 9, 10, 11])\n",
    "\n",
    "for _ in range(10):\n",
    "    for s in env.S:\n",
    "        bellman_optimality_update(env, V, s, gamma)\n",
    "\n",
    "# make sure value function is exactly correct\n",
    "answer = [61, 63, 65, 67, 69, 71, 72, 74, 75, 76, 71]\n",
    "env = ParkingWorld(num_spaces=10, num_prices=4)\n",
    "gamma = 0.9\n",
    "theta = 0.1\n",
    "V, pi = value_iteration(env, gamma, theta)\n",
    "plot(V, pi)"
   ]
  },
  {
   "cell_type": "markdown",
   "metadata": {},
   "source": [
    "In the value iteration algorithm above, a policy is not explicitly maintained until the value function has converged. Below, we have written an identically behaving value iteration algorithm that maintains an updated policy. Writing value iteration in this form makes its relationship to policy iteration more evident. Policy iteration alternates between doing complete greedifications and complete evaluations. On the other hand, value iteration alternates between doing local greedifications and local evaluations. "
   ]
  },
  {
   "cell_type": "code",
   "execution_count": 29,
   "metadata": {},
   "outputs": [],
   "source": [
    "def value_iteration2(env, gamma, theta):\n",
    "    V = np.zeros(len(env.S))\n",
    "    pi = np.ones((len(env.S), len(env.A))) / len(env.A)\n",
    "    while True:\n",
    "        delta = 0\n",
    "        for s in env.S:\n",
    "            v = V[s]\n",
    "            q_greedify_policy(env, V, pi, s, gamma)\n",
    "            bellman_update(env, V, pi, s, gamma)\n",
    "            delta = max(delta, abs(v - V[s]))\n",
    "        if delta < theta:\n",
    "            break\n",
    "    return V, pi"
   ]
  },
  {
   "cell_type": "code",
   "execution_count": 30,
   "metadata": {},
   "outputs": [
    {
     "data": {
      "image/png": "[encoded data removed]",
      "text/plain": [
       "<Figure size 900x360 with 3 Axes>"
      ]
     },
     "metadata": {},
     "output_type": "display_data"
    }
   ],
   "source": [
    "#hide_input\n",
    "env = ParkingWorld(num_spaces=10, num_prices=4)\n",
    "gamma = 0.9\n",
    "theta = 0.1\n",
    "V, pi = value_iteration2(env, gamma, theta)\n",
    "plot(V, pi)"
   ]
  }
 ],
 "metadata": {
  "interpreter": {
   "hash": "4704387b41a40bfc6b9a20025aa7a47e893418ad88d6e1049bb4f5edbf8cf364"
  },
  "kernelspec": {
   "display_name": "Python 3.9.6 64-bit",
   "language": "python",
   "name": "python3"
  },
  "language_info": {
   "codemirror_mode": {
    "name": "ipython",
    "version": 3
   },
   "file_extension": ".py",
   "mimetype": "text/x-python",
   "name": "python",
   "nbconvert_exporter": "python",
   "pygments_lexer": "ipython3",
   "version": "3.9.6"
  },
  "orig_nbformat": 4
 },
 "nbformat": 4,
 "nbformat_minor": 2
}
